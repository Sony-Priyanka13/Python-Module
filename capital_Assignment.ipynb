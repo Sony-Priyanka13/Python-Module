{
 "cells": [
  {
   "cell_type": "code",
   "execution_count": 1,
   "id": "0357425e",
   "metadata": {},
   "outputs": [],
   "source": [
    "# capital alphabets"
   ]
  },
  {
   "cell_type": "code",
   "execution_count": 4,
   "id": "7c2aaf36",
   "metadata": {},
   "outputs": [
    {
     "name": "stdout",
     "output_type": "stream",
     "text": [
      "*****\n",
      "*   *\n",
      "* * *\n",
      "*   *\n"
     ]
    }
   ],
   "source": [
    "# capital A\n",
    "# program\n",
    "x=4\n",
    "while x>0 :\n",
    "    if x==4:\n",
    "        print(\"*\" * 5)\n",
    "    elif x==2:\n",
    "        print(\"* * *\")\n",
    "    else:\n",
    "        print(\"*   *\")\n",
    "    x=x-1\n",
    "    \n",
    "   \n",
    "        "
   ]
  },
  {
   "cell_type": "code",
   "execution_count": 12,
   "id": "140b2303",
   "metadata": {},
   "outputs": [
    {
     "name": "stdout",
     "output_type": "stream",
     "text": [
      "*  *\n",
      "*    *\n",
      "*  *\n",
      "*    *\n",
      "*  *\n"
     ]
    }
   ],
   "source": [
    "# capita B\n",
    "# program\n",
    "x=5\n",
    "while x>0 :\n",
    "    if x==5 or x==3 or x==1:\n",
    "        print(\"*  *\")\n",
    "    elif x==4 or x==2:\n",
    "        print(\"*    *\")\n",
    "    x=x-1\n",
    "        "
   ]
  },
  {
   "cell_type": "code",
   "execution_count": 15,
   "id": "9dcd6b2a",
   "metadata": {},
   "outputs": [
    {
     "name": "stdout",
     "output_type": "stream",
     "text": [
      "*****\n",
      "*\n",
      "*\n",
      "*\n",
      "*****\n"
     ]
    }
   ],
   "source": [
    "#  capital C \n",
    "# program\n",
    "x=5\n",
    "while x>0:\n",
    "    if x==5 or x==1:\n",
    "        print(\"*\" *5)\n",
    "    else:\n",
    "        print(\"*\")\n",
    "    x=x-1"
   ]
  },
  {
   "cell_type": "code",
   "execution_count": 16,
   "id": "4ad9aa7d",
   "metadata": {},
   "outputs": [
    {
     "name": "stdout",
     "output_type": "stream",
     "text": [
      "*  *\n",
      "*    *\n",
      "*     *\n",
      "*    *\n",
      "*  *\n"
     ]
    }
   ],
   "source": [
    "# capital D\n",
    "# program\n",
    "x=5\n",
    "while x>0:\n",
    "    if x==5 or x==1:\n",
    "        print(\"*  *\")\n",
    "    elif x==4 or x==2:\n",
    "        print(\"*    *\")\n",
    "    else:\n",
    "        print(\"*     *\")\n",
    "    x=x-1"
   ]
  },
  {
   "cell_type": "code",
   "execution_count": 17,
   "id": "3e0b452b",
   "metadata": {},
   "outputs": [
    {
     "name": "stdout",
     "output_type": "stream",
     "text": [
      "****\n",
      "*\n",
      "****\n",
      "*\n",
      "****\n"
     ]
    }
   ],
   "source": [
    "# capital E\n",
    "# program\n",
    "x=5\n",
    "while x>0:\n",
    "    if x==5 or x==1 or x==3:\n",
    "        print(\"*\" * 4)\n",
    "    elif x==4 or x==2:\n",
    "        print(\"*\")\n",
    "    x=x-1"
   ]
  },
  {
   "cell_type": "code",
   "execution_count": 18,
   "id": "c2dff2aa",
   "metadata": {},
   "outputs": [
    {
     "name": "stdout",
     "output_type": "stream",
     "text": [
      "****\n",
      "*\n",
      "****\n",
      "*\n",
      "*\n"
     ]
    }
   ],
   "source": [
    "# capital F\n",
    "# program\n",
    "x=5\n",
    "while x>0:\n",
    "    if x==5 or x==3:\n",
    "        print(\"*\" *4)\n",
    "    else:\n",
    "        print(\"*\")\n",
    "    x=x-1"
   ]
  },
  {
   "cell_type": "code",
   "execution_count": 30,
   "id": "d1788cf0",
   "metadata": {},
   "outputs": [
    {
     "name": "stdout",
     "output_type": "stream",
     "text": [
      "*****\n",
      "*\n",
      "*   ***\n",
      "*   * *\n",
      "*****\n"
     ]
    }
   ],
   "source": [
    "# capital G\n",
    "# program\n",
    "x=5\n",
    "while x>0:\n",
    "    if x==3:\n",
    "        print(\"*   ***\")\n",
    "    elif x==4:\n",
    "        print(\"*\")\n",
    "    elif x==2:\n",
    "        print(\"*   * *\")\n",
    "    else:\n",
    "        print(\"*\" *5)\n",
    "       \n",
    "    x=x-1"
   ]
  },
  {
   "cell_type": "code",
   "execution_count": 34,
   "id": "20444f69",
   "metadata": {},
   "outputs": [
    {
     "name": "stdout",
     "output_type": "stream",
     "text": [
      "*   *\n",
      "*   *\n",
      "*****\n",
      "*   *\n",
      "*   *\n"
     ]
    }
   ],
   "source": [
    "# capital H\n",
    "# program\n",
    "x=5\n",
    "while x>0:\n",
    "    if x==3:\n",
    "        print(\"*\" * 5)\n",
    "    else:\n",
    "        print(\"*   *\")\n",
    "    x=x-1"
   ]
  },
  {
   "cell_type": "code",
   "execution_count": 35,
   "id": "cc0fab9b",
   "metadata": {},
   "outputs": [
    {
     "name": "stdout",
     "output_type": "stream",
     "text": [
      "*****\n",
      "  *  \n",
      "  *  \n",
      "  *  \n",
      "*****\n"
     ]
    }
   ],
   "source": [
    "# capital I\n",
    "# program\n",
    "x=5\n",
    "while x>0:\n",
    "    if x==5 or x==1:\n",
    "        print(\"*\" *5)\n",
    "    else:\n",
    "        print(\"  *  \")\n",
    "    x=x-1"
   ]
  },
  {
   "cell_type": "code",
   "execution_count": 42,
   "id": "01b46d4a",
   "metadata": {},
   "outputs": [
    {
     "name": "stdout",
     "output_type": "stream",
     "text": [
      "*****\n",
      "  *  \n",
      "  *  \n",
      "* *  \n",
      " **  \n"
     ]
    }
   ],
   "source": [
    "# capital J\n",
    "# program\n",
    "x=5\n",
    "while x>0:\n",
    "    if x==5:\n",
    "        print(\"*\" * 5)\n",
    "    elif x==4 or x==3:\n",
    "        print(\"  *  \")\n",
    "    elif x==1:\n",
    "        print(\" **  \")\n",
    "    else:\n",
    "        print(\"* *  \")\n",
    "    x=x-1"
   ]
  },
  {
   "cell_type": "code",
   "execution_count": 43,
   "id": "64972834",
   "metadata": {},
   "outputs": [
    {
     "name": "stdout",
     "output_type": "stream",
     "text": [
      "*   *\n",
      "* *\n",
      "*\n",
      "* *\n",
      "*   *\n"
     ]
    }
   ],
   "source": [
    "# capital K\n",
    "# program\n",
    "x=5\n",
    "while x>0:\n",
    "    if x==5 or x==1:\n",
    "        print(\"*   *\")\n",
    "    elif x==4 or x==2:\n",
    "        print(\"* *\")\n",
    "    else:\n",
    "        print(\"*\")\n",
    "    x=x-1"
   ]
  },
  {
   "cell_type": "code",
   "execution_count": 44,
   "id": "ad44fc6a",
   "metadata": {},
   "outputs": [
    {
     "name": "stdout",
     "output_type": "stream",
     "text": [
      "*\n",
      "*\n",
      "*\n",
      "*\n",
      "*****\n"
     ]
    }
   ],
   "source": [
    "# capital L \n",
    "# program\n",
    "x=5\n",
    "while x>0:\n",
    "    if x==1:\n",
    "        print(\"*\" *5)\n",
    "    else:\n",
    "        print(\"*\")\n",
    "    x=x-1"
   ]
  },
  {
   "cell_type": "code",
   "execution_count": 49,
   "id": "414eaa40",
   "metadata": {},
   "outputs": [
    {
     "name": "stdout",
     "output_type": "stream",
     "text": [
      "*     *\n",
      "**   **\n",
      "* * * *\n",
      "*  *  *\n"
     ]
    }
   ],
   "source": [
    "# capital M\n",
    "# program\n",
    "x=5\n",
    "while x>0:\n",
    "    if x==5:\n",
    "        print(\"*     *\")\n",
    "    elif x==1:\n",
    "        print(\"*  *  *\")\n",
    "    elif x==2 :\n",
    "        print(\"* * * *\")\n",
    "    elif x==3:\n",
    "        print(\"**   **\")\n",
    "    else:\n",
    "        pass\n",
    "    x=x-1"
   ]
  },
  {
   "cell_type": "code",
   "execution_count": 51,
   "id": "4136e39d",
   "metadata": {},
   "outputs": [
    {
     "name": "stdout",
     "output_type": "stream",
     "text": [
      "*   *\n",
      "**  *\n",
      "* * *\n",
      "*  **\n",
      "*   *\n"
     ]
    }
   ],
   "source": [
    "# capital N\n",
    "# program\n",
    "x=5\n",
    "while x>0:\n",
    "    if x==5 or x==1:\n",
    "        print(\"*   *\")\n",
    "    elif x==4:\n",
    "        print(\"**  *\")\n",
    "    elif x==3:\n",
    "        print(\"* * *\")\n",
    "    elif x==2:\n",
    "        print(\"*  **\")\n",
    "    x=x-1"
   ]
  },
  {
   "cell_type": "code",
   "execution_count": 52,
   "id": "d7db1fcc",
   "metadata": {},
   "outputs": [
    {
     "name": "stdout",
     "output_type": "stream",
     "text": [
      "  *\n",
      "*   *\n",
      "*   *\n",
      "*   *\n",
      "  *\n"
     ]
    }
   ],
   "source": [
    "# capital O\n",
    "# program\n",
    "x=5\n",
    "while x>0:\n",
    "    if x==5 or x==1:\n",
    "        print(\"  *\")\n",
    "    else:\n",
    "        print(\"*   *\")\n",
    "    x=x-1"
   ]
  },
  {
   "cell_type": "code",
   "execution_count": 53,
   "id": "6d8499c0",
   "metadata": {},
   "outputs": [
    {
     "name": "stdout",
     "output_type": "stream",
     "text": [
      "* *\n",
      "*  *\n",
      "* *\n",
      "*\n",
      "*\n"
     ]
    }
   ],
   "source": [
    "# capital P\n",
    "# program\n",
    "x=5\n",
    "while x>0:\n",
    "    if x==2 or x==1:\n",
    "        print(\"*\")\n",
    "    elif x==5 or x==3:\n",
    "        print(\"* *\")\n",
    "    else:\n",
    "        print(\"*  *\")\n",
    "    x=x-1"
   ]
  },
  {
   "cell_type": "code",
   "execution_count": 55,
   "id": "33fcf29d",
   "metadata": {},
   "outputs": [
    {
     "name": "stdout",
     "output_type": "stream",
     "text": [
      "  *\n",
      "*   *\n",
      "*   *\n",
      "*   *\n",
      "  *\n",
      "   *\n"
     ]
    }
   ],
   "source": [
    "# capital Q\n",
    "# program\n",
    "x=6\n",
    "while x>0:\n",
    "    if  x==2 or x==6:\n",
    "        print(\"  *\")\n",
    "    elif x==1:\n",
    "        print(\"   *\")\n",
    "    else:\n",
    "        print(\"*   *\")\n",
    "    x=x-1\n"
   ]
  },
  {
   "cell_type": "code",
   "execution_count": 76,
   "id": "12df09af",
   "metadata": {},
   "outputs": [
    {
     "name": "stdout",
     "output_type": "stream",
     "text": [
      "* *\n",
      "*  *\n",
      "* *\n",
      "*  *\n",
      "*   *\n"
     ]
    }
   ],
   "source": [
    "# capital R\n",
    "# program\n",
    "x=5\n",
    "while x>0:\n",
    "    if x==2 :\n",
    "        print(\"*  *\")\n",
    "    elif x==1:\n",
    "        print(\"*   *\")\n",
    "    elif x==5 or x==3:\n",
    "        print(\"* *\")\n",
    "    else:\n",
    "        print(\"*  *\")\n",
    "    x=x-1"
   ]
  },
  {
   "cell_type": "code",
   "execution_count": 57,
   "id": "520a19e9",
   "metadata": {},
   "outputs": [
    {
     "name": "stdout",
     "output_type": "stream",
     "text": [
      "*****\n",
      "*\n",
      "*****\n",
      "    *\n",
      "*****\n"
     ]
    }
   ],
   "source": [
    "# capital S\n",
    "# program\n",
    "x=5\n",
    "while x>0:\n",
    "    if x==5 or x==1 or x==3:\n",
    "        print(\"*\" *5)\n",
    "    elif x==2:\n",
    "        print(\"    *\")\n",
    "    else:\n",
    "        print(\"*\")\n",
    "    x=x-1"
   ]
  },
  {
   "cell_type": "code",
   "execution_count": 61,
   "id": "56966fa6",
   "metadata": {},
   "outputs": [
    {
     "name": "stdout",
     "output_type": "stream",
     "text": [
      "*****\n",
      "  *  \n",
      "  *  \n",
      "  *  \n"
     ]
    }
   ],
   "source": [
    "# capital T\n",
    "# program\n",
    "x=4\n",
    "while x>0:\n",
    "    if x==4:\n",
    "        print(\"*\" * 5)\n",
    "    else:\n",
    "        print(\"  *  \")\n",
    "    x=x-1"
   ]
  },
  {
   "cell_type": "code",
   "execution_count": 63,
   "id": "0eb8ca85",
   "metadata": {},
   "outputs": [
    {
     "name": "stdout",
     "output_type": "stream",
     "text": [
      "*   *\n",
      "*   *\n",
      "*   *\n",
      "*****\n"
     ]
    }
   ],
   "source": [
    "# capital U\n",
    "# program\n",
    "x=4\n",
    "while x>0:\n",
    "    if x==1:\n",
    "        print(\"*\" * 5)\n",
    "    else:\n",
    "        print(\"*   *\")\n",
    "    x=x-1\n"
   ]
  },
  {
   "cell_type": "code",
   "execution_count": 68,
   "id": "9c51a2a7",
   "metadata": {},
   "outputs": [
    {
     "name": "stdout",
     "output_type": "stream",
     "text": [
      "*     *\n",
      " *   *\n",
      "  * *\n",
      "   *   \n"
     ]
    }
   ],
   "source": [
    "# capital V\n",
    "# program\n",
    "x=4\n",
    "while x>0:\n",
    "    if x==4:\n",
    "        print(\"*     *\")\n",
    "    elif x==3:\n",
    "        print(\" *   *\")\n",
    "    elif x==2:\n",
    "        print(\"  * *\")\n",
    "    else:\n",
    "        print(\"   *   \")\n",
    "    x=x-1\n",
    "        "
   ]
  },
  {
   "cell_type": "code",
   "execution_count": 73,
   "id": "827043a2",
   "metadata": {},
   "outputs": [
    {
     "name": "stdout",
     "output_type": "stream",
     "text": [
      "*  *  *\n",
      "* * * *\n",
      "**   **\n",
      "*     *\n"
     ]
    }
   ],
   "source": [
    "# capital W\n",
    "# program\n",
    "x=5\n",
    "while x>0:\n",
    "    if x==1:\n",
    "        print(\"*     *\")\n",
    "    elif x==4:\n",
    "        print(\"*  *  *\")\n",
    "    elif x==3 :\n",
    "        print(\"* * * *\")\n",
    "    elif x==2:\n",
    "        print(\"**   **\")\n",
    "    else:\n",
    "        pass\n",
    "    x=x-1\n"
   ]
  },
  {
   "cell_type": "code",
   "execution_count": 72,
   "id": "60db67d4",
   "metadata": {},
   "outputs": [
    {
     "name": "stdout",
     "output_type": "stream",
     "text": [
      "*     *\n",
      " *   *\n",
      "  * *\n",
      "   *   \n",
      "  * *\n",
      " *   *\n",
      "*     *\n"
     ]
    }
   ],
   "source": [
    "# capital X\n",
    "# program\n",
    "x=7\n",
    "while x>0:\n",
    "    if x==7 or x==1:\n",
    "        print(\"*     *\")\n",
    "    elif x==6 or x==2:\n",
    "        print(\" *   *\")\n",
    "    elif x==5 or x==3:\n",
    "        print(\"  * *\")\n",
    "    else:\n",
    "        print(\"   *   \")\n",
    "    x=x-1\n"
   ]
  },
  {
   "cell_type": "code",
   "execution_count": 70,
   "id": "3e1ce1f0",
   "metadata": {},
   "outputs": [
    {
     "name": "stdout",
     "output_type": "stream",
     "text": [
      "*     *\n",
      " *   *\n",
      "  * *\n",
      "   *   \n",
      "   *   \n",
      "   *   \n"
     ]
    }
   ],
   "source": [
    "# capital Y\n",
    "# program\n",
    "x=6\n",
    "while x>0:\n",
    "    if x==6:\n",
    "        print(\"*     *\")\n",
    "    elif x==5:\n",
    "        print(\" *   *\")\n",
    "    elif x==4:\n",
    "        print(\"  * *\")\n",
    "    else:\n",
    "        print(\"   *   \")\n",
    "    x=x-1\n"
   ]
  },
  {
   "cell_type": "code",
   "execution_count": 71,
   "id": "dd266c63",
   "metadata": {},
   "outputs": [
    {
     "name": "stdout",
     "output_type": "stream",
     "text": [
      "*****\n",
      "   *\n",
      "  *\n",
      " *\n",
      "*****\n"
     ]
    }
   ],
   "source": [
    "# capital Z\n",
    "# program\n",
    "x=5\n",
    "while x>0:\n",
    "    if x==5 or x==1:\n",
    "        print(\"*\" *5)\n",
    "    elif x==4:\n",
    "        print(\"   *\")\n",
    "    elif x==3:\n",
    "        print(\"  *\")\n",
    "    elif x==2:\n",
    "        print(\" *\")\n",
    "    x=x-1"
   ]
  }
 ],
 "metadata": {
  "kernelspec": {
   "display_name": "Python 3 (ipykernel)",
   "language": "python",
   "name": "python3"
  },
  "language_info": {
   "codemirror_mode": {
    "name": "ipython",
    "version": 3
   },
   "file_extension": ".py",
   "mimetype": "text/x-python",
   "name": "python",
   "nbconvert_exporter": "python",
   "pygments_lexer": "ipython3",
   "version": "3.11.3"
  }
 },
 "nbformat": 4,
 "nbformat_minor": 5
}
