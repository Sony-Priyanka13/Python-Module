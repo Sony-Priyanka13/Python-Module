{
 "cells": [
  {
   "cell_type": "code",
   "execution_count": 1,
   "id": "94099327",
   "metadata": {},
   "outputs": [],
   "source": [
    "# 1Q :  Create a python program to print lower case alphabets (a-z) with conditional statement"
   ]
  },
  {
   "cell_type": "code",
   "execution_count": 60,
   "id": "d03c1866",
   "metadata": {},
   "outputs": [
    {
     "name": "stdout",
     "output_type": "stream",
     "text": [
      "a b c d e f g h i j k l m n o p q r s t u v w x y z "
     ]
    }
   ],
   "source": [
    "# program\n",
    "def loop(y):\n",
    "    x=y\n",
    "    if x<=122:\n",
    "        print(chr(x),end=\" \")\n",
    "        \n",
    "loop(97)\n",
    "loop(98)\n",
    "loop(99)\n",
    "loop(100)\n",
    "loop(101)\n",
    "loop(102)\n",
    "loop(103)\n",
    "loop(104)\n",
    "loop(105)\n",
    "loop(106)\n",
    "loop(107)\n",
    "loop(108)\n",
    "loop(109)\n",
    "loop(110)\n",
    "loop(111)\n",
    "loop(112)\n",
    "loop(113)\n",
    "loop(114)\n",
    "loop(115)\n",
    "loop(116)\n",
    "loop(117)\n",
    "loop(118)\n",
    "loop(119)\n",
    "loop(120)\n",
    "loop(121)\n",
    "loop(122)\n",
    "\n",
    "\n",
    "\n",
    "\n",
    "\n",
    "   \n"
   ]
  },
  {
   "cell_type": "code",
   "execution_count": 61,
   "id": "dc98a672",
   "metadata": {},
   "outputs": [],
   "source": [
    "# 2Q : Create a python program to print lower & upper case alphabets with looping concepts (while loop and for loop)"
   ]
  },
  {
   "cell_type": "code",
   "execution_count": 68,
   "id": "3d0f2198",
   "metadata": {},
   "outputs": [
    {
     "name": "stdout",
     "output_type": "stream",
     "text": [
      "a b c d e f g h i j k l m n o p q r s t u v w x y z \n",
      "A B C D E F G H I J K L M N O P Q R S T U V W X Y Z "
     ]
    }
   ],
   "source": [
    "# while loop program\n",
    "x=97\n",
    "while x<=122:\n",
    "    print(chr(x),end=\" \")\n",
    "    x=x+1\n",
    "print()\n",
    "y=65\n",
    "while y>=65 and y<=90:\n",
    "    print(chr(y),end=\" \")\n",
    "    y=y+1"
   ]
  },
  {
   "cell_type": "code",
   "execution_count": 69,
   "id": "da855b90",
   "metadata": {},
   "outputs": [
    {
     "name": "stdout",
     "output_type": "stream",
     "text": [
      "a b c d e f g h i j k l m n o p q r s t u v w x y z \n",
      "A B C D E F G H I J K L M N O P Q R S T U V W X Y Z "
     ]
    }
   ],
   "source": [
    "# for loop program\n",
    "for i in range(97,123):\n",
    "     print(chr(i),end=\" \")\n",
    "print()\n",
    "\n",
    "for i in range(65,91):\n",
    "     print(chr(i),end=\" \")\n",
    "    \n",
    "    "
   ]
  }
 ],
 "metadata": {
  "kernelspec": {
   "display_name": "Python 3 (ipykernel)",
   "language": "python",
   "name": "python3"
  },
  "language_info": {
   "codemirror_mode": {
    "name": "ipython",
    "version": 3
   },
   "file_extension": ".py",
   "mimetype": "text/x-python",
   "name": "python",
   "nbconvert_exporter": "python",
   "pygments_lexer": "ipython3",
   "version": "3.11.3"
  }
 },
 "nbformat": 4,
 "nbformat_minor": 5
}
