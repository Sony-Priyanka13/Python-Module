{
 "cells": [
  {
   "cell_type": "code",
   "execution_count": 4,
   "id": "32c1ba22",
   "metadata": {},
   "outputs": [
    {
     "name": "stdout",
     "output_type": "stream",
     "text": [
      " ******\n",
      "*     *\n",
      "*     *\n",
      " *  * *\n"
     ]
    }
   ],
   "source": [
    "# small a\n",
    "# program\n",
    "x=1\n",
    "while x<=4:\n",
    "    if x==1:\n",
    "        print(\" ******\")\n",
    "    elif x==2 or x==3:\n",
    "        print(\"*     *\")\n",
    "    elif x==4:\n",
    "        print(\" *  * *\")\n",
    "    x=x+1\n"
   ]
  },
  {
   "cell_type": "code",
   "execution_count": 5,
   "id": "983bdad0",
   "metadata": {},
   "outputs": [
    {
     "name": "stdout",
     "output_type": "stream",
     "text": [
      "*\n",
      "*\n",
      "*\n",
      "* * *\n",
      "*     *\n",
      "*     *\n",
      "******\n"
     ]
    }
   ],
   "source": [
    "# small b\n",
    "# program\n",
    "x=1\n",
    "while x<=7:\n",
    "    if x==7:\n",
    "        print(\"******\")\n",
    "    elif x==5 or x==6:\n",
    "        print(\"*     *\")\n",
    "    elif x==4:\n",
    "        print(\"* * *\")\n",
    "    else:\n",
    "        print(\"*\")\n",
    "    x=x+1\n"
   ]
  },
  {
   "cell_type": "code",
   "execution_count": 7,
   "id": "c776fbd5",
   "metadata": {},
   "outputs": [
    {
     "name": "stdout",
     "output_type": "stream",
     "text": [
      "*********\n",
      "*     \n",
      "*     \n",
      "*     \n",
      "*     \n",
      "*********\n"
     ]
    }
   ],
   "source": [
    "# small c\n",
    "# program\n",
    "x=1\n",
    "while x<=6:\n",
    "    if x==1 or x==6:\n",
    "        print(\"*********\")\n",
    "    else:\n",
    "        print(\"*     \")\n",
    "    x=x+1\n"
   ]
  },
  {
   "cell_type": "code",
   "execution_count": 9,
   "id": "66395c86",
   "metadata": {},
   "outputs": [
    {
     "name": "stdout",
     "output_type": "stream",
     "text": [
      "    *\n",
      "    *\n",
      "  * *\n",
      "*   *\n",
      "  * *\n"
     ]
    }
   ],
   "source": [
    "# small d\n",
    "# program\n",
    "x=5\n",
    "while x>0:\n",
    "    if x==2:\n",
    "        print(\"*   *\")\n",
    "    elif x==3 or x==1:\n",
    "        print(\"  * *\")\n",
    "    else:\n",
    "        print(\"    *\")\n",
    "    x=x-1"
   ]
  },
  {
   "cell_type": "code",
   "execution_count": 40,
   "id": "481d0e90",
   "metadata": {},
   "outputs": [
    {
     "name": "stdout",
     "output_type": "stream",
     "text": [
      "   * * *\n",
      " *   *\n",
      "*  * \n",
      " *\n",
      "   * * *\n"
     ]
    }
   ],
   "source": [
    "# small e\n",
    "# program\n",
    "x=5\n",
    "while x>0:\n",
    "    if x==5 or x==1:\n",
    "        print(\"   * * *\")\n",
    "    elif x==4: \n",
    "        print(\" *   *\")\n",
    "    elif x==2:\n",
    "        print(\" *\")\n",
    "    else:\n",
    "        print(\"*  * \")\n",
    "    x=x-1\n"
   ]
  },
  {
   "cell_type": "code",
   "execution_count": 57,
   "id": "bde0961b",
   "metadata": {},
   "outputs": [
    {
     "name": "stdout",
     "output_type": "stream",
     "text": [
      "   *\n",
      "  * *\n",
      "  *\n",
      "  ***\n",
      "* *\n",
      " * \n"
     ]
    }
   ],
   "source": [
    "# small f\n",
    "# program\n",
    "x=6\n",
    "while x>0:\n",
    "    if x==5:\n",
    "        print(\"  * *\")\n",
    "    elif x==6:\n",
    "        print(\"   *\")\n",
    "    elif x==4:\n",
    "        print(\"  *\")\n",
    "    elif x==3:\n",
    "        print(\"  ***\")\n",
    "    elif x==2 :\n",
    "        print(\"* *\")\n",
    "    else:\n",
    "        print(\" * \")\n",
    "    x=x-1\n"
   ]
  },
  {
   "cell_type": "code",
   "execution_count": 6,
   "id": "5241b2b5",
   "metadata": {},
   "outputs": [
    {
     "name": "stdout",
     "output_type": "stream",
     "text": [
      " ******\n",
      "*     *\n",
      "*     *\n",
      " *  * *\n",
      "      *\n",
      "*     *\n",
      " ******\n"
     ]
    }
   ],
   "source": [
    "# small g\n",
    "# program\n",
    "x=1\n",
    "while x<=7:\n",
    "    if x==1 or x==7:\n",
    "        print(\" ******\")\n",
    "    elif x==2 or x==3 or x==6:\n",
    "        print(\"*     *\")\n",
    "    elif x==4:\n",
    "        print(\" *  * *\")\n",
    "    else:\n",
    "        print(\"      *\")\n",
    "    x=x+1"
   ]
  },
  {
   "cell_type": "code",
   "execution_count": 60,
   "id": "d79d4b8b",
   "metadata": {},
   "outputs": [
    {
     "name": "stdout",
     "output_type": "stream",
     "text": [
      "*\n",
      "*\n",
      "* *\n",
      "*  *\n",
      "*  *\n"
     ]
    }
   ],
   "source": [
    "# small h\n",
    "# program\n",
    "x=5 \n",
    "while x>0:\n",
    "    if x==5 or x==4:\n",
    "        print(\"*\")\n",
    "    elif x==3:\n",
    "        print(\"* *\")\n",
    "    else:\n",
    "        print(\"*  *\")\n",
    "    x=x-1"
   ]
  },
  {
   "cell_type": "code",
   "execution_count": 65,
   "id": "458e9f7e",
   "metadata": {},
   "outputs": [
    {
     "name": "stdout",
     "output_type": "stream",
     "text": [
      "*\n",
      "\n",
      "*\n",
      "*\n",
      "*\n",
      "*\n"
     ]
    }
   ],
   "source": [
    "# small i\n",
    "# program\n",
    "x=6\n",
    "while x>0:\n",
    "    if x==5:\n",
    "        print()\n",
    "    else:\n",
    "        print(\"*\")\n",
    "    x=x-1\n",
    "    "
   ]
  },
  {
   "cell_type": "code",
   "execution_count": 3,
   "id": "75bcbfb4",
   "metadata": {},
   "outputs": [
    {
     "name": "stdout",
     "output_type": "stream",
     "text": [
      "   *\n",
      "\n",
      "   *\n",
      "   *\n",
      "*  *\n",
      " * \n"
     ]
    }
   ],
   "source": [
    "# small j\n",
    "# program\n",
    "x=6\n",
    "while x>0:\n",
    "    if x==5:\n",
    "        print()\n",
    "    elif x==2:\n",
    "        print(\"*  *\")\n",
    "    elif x==1:\n",
    "        print(\" * \")\n",
    "    else:\n",
    "        print(\"   *\")\n",
    "    x=x-1\n"
   ]
  },
  {
   "cell_type": "code",
   "execution_count": 8,
   "id": "58efc9c8",
   "metadata": {},
   "outputs": [
    {
     "name": "stdout",
     "output_type": "stream",
     "text": [
      "*\n",
      "*\n",
      "*   *\n",
      "* *\n",
      "*   *\n"
     ]
    }
   ],
   "source": [
    "# small k\n",
    "# program\n",
    "x=5\n",
    "while x>0:\n",
    "    if x==5 or x==4:\n",
    "        print(\"*\")\n",
    "    elif x==3 or x==1:\n",
    "        print(\"*   *\")\n",
    "    else:\n",
    "        print(\"* *\")\n",
    "    x=x-1"
   ]
  },
  {
   "cell_type": "code",
   "execution_count": 9,
   "id": "23c570d3",
   "metadata": {},
   "outputs": [
    {
     "name": "stdout",
     "output_type": "stream",
     "text": [
      "*\n",
      "*\n",
      "*\n",
      "* *\n",
      "*\n"
     ]
    }
   ],
   "source": [
    "# small l\n",
    "# program\n",
    "x=5\n",
    "while x>0:\n",
    "    if x==2:\n",
    "        print(\"* *\")\n",
    "    else:\n",
    "        print(\"*\")\n",
    "    x=x-1"
   ]
  },
  {
   "cell_type": "code",
   "execution_count": 11,
   "id": "8d081930",
   "metadata": {},
   "outputs": [
    {
     "name": "stdout",
     "output_type": "stream",
     "text": [
      " *   * \n",
      "*  *  *\n",
      "*  *  *\n",
      "*  *  *\n"
     ]
    }
   ],
   "source": [
    "# small m\n",
    "# program\n",
    "x=4\n",
    "while x>0:\n",
    "    if x==4:\n",
    "        print(\" *   * \")\n",
    "    else:\n",
    "        print(\"*  *  *\")\n",
    "    x=x-1"
   ]
  },
  {
   "cell_type": "code",
   "execution_count": 51,
   "id": "9f8a6461",
   "metadata": {},
   "outputs": [
    {
     "name": "stdout",
     "output_type": "stream",
     "text": [
      "*     \n",
      "  *     \n",
      "  *  *  \n",
      "  *   *\n",
      "  *   *\n"
     ]
    }
   ],
   "source": [
    "# small n\n",
    "# program\n",
    "x=4\n",
    "while x>0:\n",
    "    if x==4:\n",
    "        print(\"*     \")\n",
    "        print(\"  *     \")\n",
    "    elif x==3:\n",
    "        print(\"  *  *  \")\n",
    "    elif x==2 :\n",
    "        print(\"  *   *\")\n",
    "    else:\n",
    "        print(\"  *   *\")\n",
    "    x=x-1\n",
    "    \n"
   ]
  },
  {
   "cell_type": "code",
   "execution_count": 55,
   "id": "79554351",
   "metadata": {},
   "outputs": [
    {
     "name": "stdout",
     "output_type": "stream",
     "text": [
      "  * \n",
      "*   *\n",
      "*   *\n",
      "  * \n"
     ]
    }
   ],
   "source": [
    "# small o\n",
    "# program\n",
    "x=4\n",
    "while x>0:\n",
    "    if x==4 or x==1:\n",
    "        print(\"  * \")\n",
    "    else:\n",
    "        print(\"*   *\")\n",
    "    x=x-1"
   ]
  },
  {
   "cell_type": "code",
   "execution_count": 8,
   "id": "990a6812",
   "metadata": {},
   "outputs": [
    {
     "name": "stdout",
     "output_type": "stream",
     "text": [
      "******\n",
      "*     *\n",
      "*     *\n",
      "* * *\n",
      "*\n",
      "*\n",
      "*\n"
     ]
    }
   ],
   "source": [
    "# small p\n",
    "# program\n",
    "x=1\n",
    "while x<=7:\n",
    "    if x==1:\n",
    "        print(\"******\")\n",
    "    elif x==2 or x==3:\n",
    "        print(\"*     *\")\n",
    "    elif x==4:\n",
    "        print(\"* * *\")\n",
    "    else:\n",
    "        print(\"*\")\n",
    "    x=x+1"
   ]
  },
  {
   "cell_type": "code",
   "execution_count": 9,
   "id": "01f6a848",
   "metadata": {},
   "outputs": [
    {
     "name": "stdout",
     "output_type": "stream",
     "text": [
      " ******\n",
      "*     *\n",
      "*     *\n",
      " *  * *\n",
      "      *   *\n",
      "      *  *\n",
      "      *\n"
     ]
    }
   ],
   "source": [
    "# small q\n",
    "# program\n",
    "x=1\n",
    "while x<=7:\n",
    "    if x==1:\n",
    "        print(\" ******\")\n",
    "    elif x==2 or x==3:\n",
    "        print(\"*     *\")\n",
    "    elif x==4:\n",
    "        print(\" *  * *\")\n",
    "    elif x==5:\n",
    "        print(\"      *   *\")\n",
    "    elif x==6:\n",
    "        print(\"      *  *\")\n",
    "    else:\n",
    "        print(\"      *\")\n",
    "    x=x+1"
   ]
  },
  {
   "cell_type": "code",
   "execution_count": 10,
   "id": "b5c6a3a8",
   "metadata": {},
   "outputs": [
    {
     "name": "stdout",
     "output_type": "stream",
     "text": [
      "*   *\n",
      "* * \n",
      "**\n",
      "*\n",
      "*\n",
      "*\n"
     ]
    }
   ],
   "source": [
    "# small r\n",
    "# program\n",
    "x=1\n",
    "while x<=6:\n",
    "    if x==1:\n",
    "        print(\"*   *\")\n",
    "    elif x==2:\n",
    "        print(\"* * \")\n",
    "    elif x==3:\n",
    "        print(\"**\")\n",
    "    else:\n",
    "        print(\"*\")\n",
    "    x=x+1"
   ]
  },
  {
   "cell_type": "code",
   "execution_count": 11,
   "id": "846ed69c",
   "metadata": {},
   "outputs": [
    {
     "name": "stdout",
     "output_type": "stream",
     "text": [
      " *******\n",
      "*\n",
      "*\n",
      " *******\n",
      "        *\n",
      "        *\n",
      "******** \n"
     ]
    }
   ],
   "source": [
    "# small s\n",
    "# program\n",
    "x=1\n",
    "while x<=7:\n",
    "    if x==1 or x==4:\n",
    "        print(\" *******\")\n",
    "    elif x==2 or x==3:\n",
    "        print(\"*\")\n",
    "    elif x==7:\n",
    "        print(\"******** \")\n",
    "    else:\n",
    "        print(\"        *\")\n",
    "    x=x+1"
   ]
  },
  {
   "cell_type": "code",
   "execution_count": 12,
   "id": "79681e78",
   "metadata": {},
   "outputs": [
    {
     "name": "stdout",
     "output_type": "stream",
     "text": [
      "     *\n",
      "     *\n",
      "     *\n",
      "     *\n",
      "  * * * * * \n",
      "     *\n",
      "     *\n",
      "     *     *\n",
      "      * * *\n"
     ]
    }
   ],
   "source": [
    "# small t\n",
    "# program\n",
    "x=1\n",
    "while x<=9:\n",
    "    if x==9:\n",
    "        print(\"      * * *\")\n",
    "    elif x==8:\n",
    "        print(\"     *     *\")\n",
    "    elif x==5:\n",
    "        print(\"  * * * * * \")\n",
    "    else:\n",
    "        print(\"     *\")\n",
    "    x=x+1"
   ]
  },
  {
   "cell_type": "code",
   "execution_count": 13,
   "id": "7f5fd0f5",
   "metadata": {},
   "outputs": [
    {
     "name": "stdout",
     "output_type": "stream",
     "text": [
      "*      *\n",
      "*      *\n",
      "*      *\n",
      "*      *\n",
      "*      *\n",
      " *******\n"
     ]
    }
   ],
   "source": [
    "# small u\n",
    "# program\n",
    "x=1\n",
    "while x<=6:\n",
    "    if x==6:\n",
    "        print(\" *******\")\n",
    "    else:\n",
    "        print(\"*      *\")\n",
    "    x=x+1"
   ]
  },
  {
   "cell_type": "code",
   "execution_count": 17,
   "id": "8c66500e",
   "metadata": {},
   "outputs": [
    {
     "name": "stdout",
     "output_type": "stream",
     "text": [
      "*          *\n",
      " *        *\n",
      "  *      *\n",
      "    *  *\n",
      "     *\n"
     ]
    }
   ],
   "source": [
    "# small v\n",
    "# program\n",
    "x=1\n",
    "while x<=5:\n",
    "    if x==1:\n",
    "        print(\"*          *\")\n",
    "    elif x==2:\n",
    "        print(\" *        *\")\n",
    "    elif x==3:\n",
    "        print(\"  *      *\")\n",
    "    elif x==4:\n",
    "        print(\"    *  *\")\n",
    "    else:\n",
    "        print(\"     *\")\n",
    "    x=x+1"
   ]
  },
  {
   "cell_type": "code",
   "execution_count": 15,
   "id": "58a10301",
   "metadata": {},
   "outputs": [
    {
     "name": "stdout",
     "output_type": "stream",
     "text": [
      "*         *\n",
      "*         *\n",
      "*         *\n",
      "*    *    *\n",
      "*   *  *  *\n",
      "* *     * *\n",
      "*         *\n"
     ]
    }
   ],
   "source": [
    "# small w\n",
    "# program\n",
    "x=1\n",
    "while x<=7:\n",
    "    if x==1:\n",
    "        print(\"*         *\")\n",
    "    elif x==6:\n",
    "        print(\"* *     * *\")\n",
    "    elif x==5:\n",
    "        print(\"*   *  *  *\")\n",
    "    elif x==4:\n",
    "        print(\"*    *    *\")\n",
    "    else:\n",
    "        print(\"*         *\")\n",
    "    x=x+1"
   ]
  },
  {
   "cell_type": "code",
   "execution_count": 16,
   "id": "28f143fe",
   "metadata": {},
   "outputs": [
    {
     "name": "stdout",
     "output_type": "stream",
     "text": [
      "*     *\n",
      " *   *\n",
      "  * *\n",
      "   *\n",
      "  * *\n",
      " *   *\n",
      "*     *\n"
     ]
    }
   ],
   "source": [
    "# small x\n",
    "# program\n",
    "x=1\n",
    "while x<=7:\n",
    "    if x==1 or x==7:\n",
    "        print(\"*     *\")\n",
    "    elif x==2 or x==6:\n",
    "        print(\" *   *\")\n",
    "    elif x==3 or x==5:\n",
    "        print(\"  * *\")\n",
    "    else:\n",
    "        print(\"   *\")\n",
    "    x=x+1"
   ]
  },
  {
   "cell_type": "code",
   "execution_count": 75,
   "id": "0157775b",
   "metadata": {},
   "outputs": [
    {
     "name": "stdout",
     "output_type": "stream",
     "text": [
      "*   *\n",
      " * *\n",
      "  * \n",
      "* * \n",
      "  * \n"
     ]
    }
   ],
   "source": [
    "# small y\n",
    "# program\n",
    "x=5\n",
    "while x>0:\n",
    "    if x==5:\n",
    "        print(\"*   *\")\n",
    "    elif x==4:\n",
    "        print(\" * *\")\n",
    "    elif x==3 :\n",
    "        print(\"  * \")\n",
    "    elif x==2: \n",
    "        print(\"* * \")\n",
    "    else:\n",
    "        print(\"  * \")\n",
    "   \n",
    "    x=x-1"
   ]
  },
  {
   "cell_type": "code",
   "execution_count": 57,
   "id": "575f5e97",
   "metadata": {},
   "outputs": [
    {
     "name": "stdout",
     "output_type": "stream",
     "text": [
      "****\n",
      "  *\n",
      " *\n",
      "****\n"
     ]
    }
   ],
   "source": [
    "# small z\n",
    "# program\n",
    "x=4\n",
    "while x>0:\n",
    "    if x==4 or x==1:\n",
    "        print(\"*\" *4)\n",
    "    elif x==3:\n",
    "        print(\"  *\")\n",
    "    else:\n",
    "        print(\" *\")\n",
    "    \n",
    "    x=x-1"
   ]
  }
 ],
 "metadata": {
  "kernelspec": {
   "display_name": "Python 3 (ipykernel)",
   "language": "python",
   "name": "python3"
  },
  "language_info": {
   "codemirror_mode": {
    "name": "ipython",
    "version": 3
   },
   "file_extension": ".py",
   "mimetype": "text/x-python",
   "name": "python",
   "nbconvert_exporter": "python",
   "pygments_lexer": "ipython3",
   "version": "3.11.3"
  }
 },
 "nbformat": 4,
 "nbformat_minor": 5
}
