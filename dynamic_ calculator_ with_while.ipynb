{
 "cells": [
  {
   "cell_type": "code",
   "execution_count": 1,
   "id": "e03470ba",
   "metadata": {},
   "outputs": [],
   "source": [
    "# Dynamic calculator using while\n",
    "# program"
   ]
  },
  {
   "cell_type": "code",
   "execution_count": 6,
   "id": "5116c4fd",
   "metadata": {},
   "outputs": [
    {
     "name": "stdout",
     "output_type": "stream",
     "text": [
      "enter num1: 2\n",
      "enter symbol : **\n",
      "enter num2 : 3\n",
      "2**3=8\n",
      "Play again(Y/N)? : n\n",
      "Thank you/calculate again\n"
     ]
    }
   ],
   "source": [
    "while True:\n",
    "    num1=int(input(\"enter num1: \"))\n",
    "    symbol=input(\"enter symbol : \")\n",
    "    num2=int(input(\"enter num2 : \"))\n",
    "    if symbol=='+':\n",
    "        print(\"{}+{}={}\".format(num1,num2,num1+num2))\n",
    "    elif symbol=='-':\n",
    "        print(\"{}-{}={}\".format(num1,num2,num1-num2))\n",
    "    elif symbol=='*':\n",
    "        print(\"{}*{}={}\".format(num1,num2,num1*num2))\n",
    "    elif symbol=='/':\n",
    "        print(\"{}/{}={}\".format(num1,num2,num1/num2))\n",
    "    elif symbol=='%':\n",
    "        print(\"{}%{}={}\".format(num1,num2,num1/num2))\n",
    "    elif symbol=='**':\n",
    "        print(\"{}**{}={}\".format(num1,num2,num1**num2))\n",
    "    elif symbol=='//':\n",
    "        print(\"{}//{}={}\".format(num1,num2,num1//num2))\n",
    "    else :\n",
    "        print(\"enter correct symbol\")\n",
    "    choice = input(\"Play again(Y/N)? : \")\n",
    "    if choice.upper() ==\"N\":\n",
    "        break\n",
    "print(\"Thank you/calculate again\")"
   ]
  },
  {
   "cell_type": "code",
   "execution_count": null,
   "id": "673d1e29",
   "metadata": {},
   "outputs": [],
   "source": []
  }
 ],
 "metadata": {
  "kernelspec": {
   "display_name": "Python 3 (ipykernel)",
   "language": "python",
   "name": "python3"
  },
  "language_info": {
   "codemirror_mode": {
    "name": "ipython",
    "version": 3
   },
   "file_extension": ".py",
   "mimetype": "text/x-python",
   "name": "python",
   "nbconvert_exporter": "python",
   "pygments_lexer": "ipython3",
   "version": "3.11.3"
  }
 },
 "nbformat": 4,
 "nbformat_minor": 5
}
