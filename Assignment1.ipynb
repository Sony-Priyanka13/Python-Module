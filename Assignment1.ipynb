{
 "cells": [
  {
   "cell_type": "code",
   "execution_count": 1,
   "id": "456c4fdc",
   "metadata": {},
   "outputs": [],
   "source": [
    "# 1Q : Write a python program to convert a string to lower case"
   ]
  },
  {
   "cell_type": "code",
   "execution_count": 2,
   "id": "01f88f2d",
   "metadata": {},
   "outputs": [
    {
     "name": "stdout",
     "output_type": "stream",
     "text": [
      "Enter the string : 12sfcgaVVCSAH\n"
     ]
    },
    {
     "data": {
      "text/plain": [
       "'12sfcgavvcsah'"
      ]
     },
     "execution_count": 2,
     "metadata": {},
     "output_type": "execute_result"
    }
   ],
   "source": [
    "# Program\n",
    "#dynamically assigning of string\n",
    "x = input(\"Enter the string : \")\n",
    "x.lower()"
   ]
  },
  {
   "cell_type": "code",
   "execution_count": 4,
   "id": "e3b20b6a",
   "metadata": {},
   "outputs": [],
   "source": [
    "# 2Q : Write a python program to convert only odd indexed characters to lower case"
   ]
  },
  {
   "cell_type": "code",
   "execution_count": 6,
   "id": "6a744aa0",
   "metadata": {},
   "outputs": [
    {
     "name": "stdout",
     "output_type": "stream",
     "text": [
      "Enter the string : FSASDGUGD\n"
     ]
    },
    {
     "data": {
      "text/plain": [
       "'FsAsDgUgD'"
      ]
     },
     "execution_count": 6,
     "metadata": {},
     "output_type": "execute_result"
    }
   ],
   "source": [
    "# Program\n",
    "#dynamically assigning of string\n",
    "x = input(\"Enter the string : \")\n",
    "y=\"\"\n",
    "for i in range(0,len(x)):\n",
    "    if (i%2)!=0:\n",
    "        y+= x[i].lower()\n",
    "    else :\n",
    "        y+=x[i]\n",
    "y"
   ]
  },
  {
   "cell_type": "code",
   "execution_count": 7,
   "id": "ef19d58d",
   "metadata": {},
   "outputs": [],
   "source": [
    "# 3Q : Write a python program to convert only even indexed characters to lower case"
   ]
  },
  {
   "cell_type": "code",
   "execution_count": 8,
   "id": "748df983",
   "metadata": {},
   "outputs": [
    {
     "name": "stdout",
     "output_type": "stream",
     "text": [
      "Enter the string : ASCGUJ JsKJj1334\n"
     ]
    },
    {
     "data": {
      "text/plain": [
       "'aScGuJ JsKjj1334'"
      ]
     },
     "execution_count": 8,
     "metadata": {},
     "output_type": "execute_result"
    }
   ],
   "source": [
    "# Program\n",
    "#dynamically assigning of string\n",
    "x = input(\"Enter the string : \")\n",
    "y=\"\"\n",
    "for i in range(0,len(x)):\n",
    "    if (i%2)==0:\n",
    "        y+= x[i].lower()\n",
    "    else :\n",
    "        y+=x[i]\n",
    "y"
   ]
  },
  {
   "cell_type": "code",
   "execution_count": 9,
   "id": "628c55e9",
   "metadata": {},
   "outputs": [],
   "source": [
    "# 4Q : Write a python program to convert only odd indexed characters to upper case"
   ]
  },
  {
   "cell_type": "code",
   "execution_count": 10,
   "id": "7eafc6fd",
   "metadata": {},
   "outputs": [
    {
     "name": "stdout",
     "output_type": "stream",
     "text": [
      "Enter the string : bacsjgabsbavVIFCA123@gsac\n"
     ]
    },
    {
     "data": {
      "text/plain": [
       "'bAcSjGaBsBaVVIFCA123@GsAc'"
      ]
     },
     "execution_count": 10,
     "metadata": {},
     "output_type": "execute_result"
    }
   ],
   "source": [
    "# Program\n",
    "#dynamically assigning of string\n",
    "x = input(\"Enter the string : \")\n",
    "y=\"\"\n",
    "for i in range(0,len(x)):\n",
    "    if (i%2)!=0:\n",
    "        y+= x[i].upper()\n",
    "    else :\n",
    "        y+=x[i]\n",
    "y\n"
   ]
  },
  {
   "cell_type": "code",
   "execution_count": 11,
   "id": "2b1d3224",
   "metadata": {},
   "outputs": [],
   "source": [
    "# 5Q : Write a python program to convert only even indexed characters to upper case"
   ]
  },
  {
   "cell_type": "code",
   "execution_count": 12,
   "id": "378122bc",
   "metadata": {},
   "outputs": [
    {
     "name": "stdout",
     "output_type": "stream",
     "text": [
      "Enter the string : sacyis13342&!909(vsvjVSAHCGJ>\n"
     ]
    },
    {
     "data": {
      "text/plain": [
       "'SaCyIs13342&!909(vSvJVSAHCGJ>'"
      ]
     },
     "execution_count": 12,
     "metadata": {},
     "output_type": "execute_result"
    }
   ],
   "source": [
    "# Program\n",
    "#dynamically assigning of string\n",
    "x = input(\"Enter the string : \")\n",
    "y=\"\" \n",
    "for i in range(0,len(x)):\n",
    "    if (i%2)==0:\n",
    "        y+= x[i].upper()\n",
    "    else :\n",
    "        y+=x[i]\n",
    "y"
   ]
  },
  {
   "cell_type": "code",
   "execution_count": 13,
   "id": "94b7ab21",
   "metadata": {},
   "outputs": [],
   "source": [
    "# 6Q : Write a python program where you have different variable which contains your name ,\n",
    "# sex,age, phone no , fathers name and mothers name.And by using this variable create a variable\n",
    "# named bio-data where you will use all this variable"
   ]
  },
  {
   "cell_type": "code",
   "execution_count": 19,
   "id": "932bfaae",
   "metadata": {},
   "outputs": [
    {
     "name": "stdout",
     "output_type": "stream",
     "text": [
      "Enter the name: Sony Priyanka\n",
      "Enter sex : Female\n",
      "Enter age: 23\n",
      "Enter Phone No: 6281206412\n",
      "Enter the Father's name: Srinivas Rao\n",
      "Enter the Mother's name: Aruna Kumari\n"
     ]
    },
    {
     "data": {
      "text/plain": [
       "'My name is Sony Priyanka, My sex is Female, My age is 23, My phone-no is 6281206412, My fathers name is Srinivas Rao,and my mothers name is Aruna Kumari'"
      ]
     },
     "execution_count": 19,
     "metadata": {},
     "output_type": "execute_result"
    }
   ],
   "source": [
    "# Program\n",
    "name = input(\"Enter the name: \")\n",
    "sex = input(\"Enter sex : \")\n",
    "age = int(input(\"Enter age: \"))\n",
    "phone_no =int(input(\"Enter Phone No: \"))\n",
    "Fathers_name = input(\"Enter the Father's name: \")\n",
    "Mothers_name = input(\"Enter the Mother's name: \")\n",
    "bio_data = \"My name is {}, My sex is {}, My age is {}, My phone-no is {}, My fathers name is {},and my mothers name is {}\"\n",
    "bio_data.format(name,sex,age,phone_no,Fathers_name,Mothers_name)\n"
   ]
  },
  {
   "cell_type": "code",
   "execution_count": 20,
   "id": "24d9babe",
   "metadata": {},
   "outputs": [],
   "source": [
    "# 7Q : Write a python program to count how many times “@” occurred in string"
   ]
  },
  {
   "cell_type": "code",
   "execution_count": 21,
   "id": "cad28606",
   "metadata": {},
   "outputs": [
    {
     "name": "stdout",
     "output_type": "stream",
     "text": [
      "Enter the string : @aaa@12#$gufaggx@@@sacj@@gsa@a@\n"
     ]
    },
    {
     "data": {
      "text/plain": [
       "9"
      ]
     },
     "execution_count": 21,
     "metadata": {},
     "output_type": "execute_result"
    }
   ],
   "source": [
    "# Program\n",
    "#dynamically assigning of string\n",
    "x = input(\"Enter the string : \")\n",
    "x.count('@')"
   ]
  },
  {
   "cell_type": "code",
   "execution_count": 22,
   "id": "384bb637",
   "metadata": {},
   "outputs": [],
   "source": [
    "# 8Q : Write a python program to get only names from the string “name1.@gmail.com,name2.@gmail.com,name 3.@gmail.com”"
   ]
  },
  {
   "cell_type": "code",
   "execution_count": 24,
   "id": "fa020447",
   "metadata": {},
   "outputs": [
    {
     "name": "stdout",
     "output_type": "stream",
     "text": [
      "name1,name2,name3\n"
     ]
    }
   ],
   "source": [
    "# Program\n",
    "z = \"name1.@gmail.com,name2.@gmail.com,name3.@gmail.com\"\n",
    "p=z.index(\"name2\")\n",
    "q=z.index(\"name3\")\n",
    "print(z[0:5],z[p:p+5],z[q:q+5],sep=\",\")"
   ]
  },
  {
   "cell_type": "code",
   "execution_count": 25,
   "id": "594cf953",
   "metadata": {},
   "outputs": [],
   "source": [
    "# 9Q : Given a string of odd length greater that 9, return a new string made of the middle\n",
    "#three characters of a given String"
   ]
  },
  {
   "cell_type": "code",
   "execution_count": 26,
   "id": "9210eebf",
   "metadata": {},
   "outputs": [
    {
     "name": "stdout",
     "output_type": "stream",
     "text": [
      "Enter the string : 12345678901\n"
     ]
    },
    {
     "data": {
      "text/plain": [
       "'567'"
      ]
     },
     "execution_count": 26,
     "metadata": {},
     "output_type": "execute_result"
    }
   ],
   "source": [
    "# Program\n",
    "#dynamically assigning of string\n",
    "x = input(\"Enter the string : \")\n",
    "if len(x)>9 and (len(x)%2)!=0:\n",
    "    middle_element = (len(x)+1)//2\n",
    "    middle_index = middle_element-1\n",
    "    middle3 = x[middle_index-1] + x[middle_index]+ x[middle_index+1]\n",
    "middle3\n",
    "\n"
   ]
  },
  {
   "cell_type": "code",
   "execution_count": 27,
   "id": "1564fc0c",
   "metadata": {},
   "outputs": [],
   "source": [
    "# 10Q : Write a python program to insert a 2 string in the middle of 1 string"
   ]
  },
  {
   "cell_type": "code",
   "execution_count": 33,
   "id": "b9d02abc",
   "metadata": {},
   "outputs": [
    {
     "name": "stdout",
     "output_type": "stream",
     "text": [
      "Enter the string1 : myn\n",
      "Enter the string2 : sai\n"
     ]
    },
    {
     "data": {
      "text/plain": [
       "'msain'"
      ]
     },
     "execution_count": 33,
     "metadata": {},
     "output_type": "execute_result"
    }
   ],
   "source": [
    "# Program\n",
    "#dynamically assigning of string\n",
    "x = input(\"Enter the string1 : \")\n",
    "y = input(\"Enter the string2 : \")\n",
    "z = \"\"\n",
    "if len(x)%2==0 :\n",
    "    middle_index = len(x)//2\n",
    "    z = x[0:middle_index] + y + x[middle_index:]\n",
    "else :\n",
    "    middle_index = (len(x)+1)//2\n",
    "    middle_index-=1\n",
    "    z = x[0:middle_index] + y + x[middle_index+1:]\n",
    "\n",
    "z"
   ]
  },
  {
   "cell_type": "code",
   "execution_count": 34,
   "id": "1999987f",
   "metadata": {},
   "outputs": [],
   "source": [
    "# 11Q : Write a program to remove vowels from the entire alphabets Ex:- “abcdefghijklmnopqrstuvwxyz” "
   ]
  },
  {
   "cell_type": "code",
   "execution_count": 35,
   "id": "f9a93722",
   "metadata": {},
   "outputs": [
    {
     "name": "stdout",
     "output_type": "stream",
     "text": [
      "Enter the string : DHASGsadjkDCaeSCKJaschzk\n"
     ]
    },
    {
     "data": {
      "text/plain": [
       "'DHSGsdjkDCSCKJschzk'"
      ]
     },
     "execution_count": 35,
     "metadata": {},
     "output_type": "execute_result"
    }
   ],
   "source": [
    "# program\n",
    "#dynamically assigning of string\n",
    "x = input(\"Enter the string : \")\n",
    "y = x.replace('a',\"\").replace('e',\"\").replace('i',\"\").replace('o',\"\").replace('u',\"\").replace('A',\"\").replace('E',\"\").replace('I',\"\").replace('O',\"\").replace('U',\"\")\n",
    "y"
   ]
  },
  {
   "cell_type": "code",
   "execution_count": null,
   "id": "57e027ea",
   "metadata": {},
   "outputs": [],
   "source": []
  }
 ],
 "metadata": {
  "kernelspec": {
   "display_name": "Python 3 (ipykernel)",
   "language": "python",
   "name": "python3"
  },
  "language_info": {
   "codemirror_mode": {
    "name": "ipython",
    "version": 3
   },
   "file_extension": ".py",
   "mimetype": "text/x-python",
   "name": "python",
   "nbconvert_exporter": "python",
   "pygments_lexer": "ipython3",
   "version": "3.11.3"
  }
 },
 "nbformat": 4,
 "nbformat_minor": 5
}
