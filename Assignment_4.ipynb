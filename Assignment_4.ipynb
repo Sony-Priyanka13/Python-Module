{
 "cells": [
  {
   "cell_type": "code",
   "execution_count": 1,
   "id": "aad539cb",
   "metadata": {},
   "outputs": [],
   "source": [
    "# a)\n",
    "#1  \n",
    "#2 2  \n",
    "#3 3 3  \n",
    "#4 4 4 4  \n",
    "#5 5 5 5 5\n"
   ]
  },
  {
   "cell_type": "code",
   "execution_count": 4,
   "id": "3008c72a",
   "metadata": {},
   "outputs": [
    {
     "name": "stdout",
     "output_type": "stream",
     "text": [
      "1 \n",
      "2 2 \n",
      "3 3 3 \n",
      "4 4 4 4 \n",
      "5 5 5 5 5 \n"
     ]
    }
   ],
   "source": [
    "# program\n",
    "for o in range(1,6):\n",
    "    i=1\n",
    "    while i<=o:\n",
    "        print(o,end=\" \")\n",
    "        i=i+1\n",
    "    print()\n",
    "        \n",
    "    \n",
    "        "
   ]
  },
  {
   "cell_type": "code",
   "execution_count": 5,
   "id": "2a562f27",
   "metadata": {},
   "outputs": [],
   "source": [
    "# b)\n",
    "#1 \n",
    "#1 2 \n",
    "#1 2 3 \n",
    "#1 2 3 4 \n",
    "#1 2 3 4 5\n"
   ]
  },
  {
   "cell_type": "code",
   "execution_count": 6,
   "id": "d7a33db3",
   "metadata": {},
   "outputs": [
    {
     "name": "stdout",
     "output_type": "stream",
     "text": [
      "1 \n",
      "1 2 \n",
      "1 2 3 \n",
      "1 2 3 4 \n",
      "1 2 3 4 5 \n"
     ]
    }
   ],
   "source": [
    "# program\n",
    "for o in range(1,6):\n",
    "    i=1\n",
    "    while i<=o:\n",
    "        print(i,end=\" \")\n",
    "        i=i+1\n",
    "    print()\n",
    "        \n"
   ]
  },
  {
   "cell_type": "code",
   "execution_count": 7,
   "id": "ef88088c",
   "metadata": {},
   "outputs": [],
   "source": [
    "# c)\n",
    "#1 1 1 1 1 \n",
    "#2 2 2 2 \n",
    "#3 3 3 \n",
    "#4 4 \n",
    "#5\n"
   ]
  },
  {
   "cell_type": "code",
   "execution_count": 8,
   "id": "a978ba27",
   "metadata": {},
   "outputs": [
    {
     "name": "stdout",
     "output_type": "stream",
     "text": [
      "1 1 1 1 1 \n",
      "2 2 2 2 \n",
      "3 3 3 \n",
      "4 4 \n",
      "5 \n"
     ]
    }
   ],
   "source": [
    "# program\n",
    "for o in range(1,6):\n",
    "    i=5\n",
    "    while i>=o:\n",
    "        print(o,end=\" \")\n",
    "        i=i-1\n",
    "    print()"
   ]
  },
  {
   "cell_type": "code",
   "execution_count": 9,
   "id": "3b48ba3f",
   "metadata": {},
   "outputs": [],
   "source": [
    "# d)\n",
    "#5 5 5 5 5 \n",
    "#5 5 5 5 \n",
    "#5 5 5 \n",
    "#5 5 \n",
    "#5"
   ]
  },
  {
   "cell_type": "code",
   "execution_count": 10,
   "id": "11b0846b",
   "metadata": {},
   "outputs": [
    {
     "name": "stdout",
     "output_type": "stream",
     "text": [
      "5 5 5 5 5 \n",
      "5 5 5 5 \n",
      "5 5 5 \n",
      "5 5 \n",
      "5 \n"
     ]
    }
   ],
   "source": [
    "# program\n",
    "for o in range(1,6):\n",
    "    i=5\n",
    "    while i>=o:\n",
    "        print(5,end=\" \")\n",
    "        i=i-1\n",
    "    print()\n"
   ]
  },
  {
   "cell_type": "code",
   "execution_count": 11,
   "id": "7a4b1456",
   "metadata": {},
   "outputs": [],
   "source": [
    "# e)\n",
    "#   0 1 2 3 4 5 \n",
    "#   0 1 2 3 4 \n",
    "#   0 1 2 3 \n",
    "#   0 1 2 \n",
    "#   0 1\n"
   ]
  },
  {
   "cell_type": "code",
   "execution_count": 13,
   "id": "1aadfcbd",
   "metadata": {
    "scrolled": true
   },
   "outputs": [
    {
     "name": "stdout",
     "output_type": "stream",
     "text": [
      "0 1 2 3 4 5 \n",
      "0 1 2 3 4 \n",
      "0 1 2 3 \n",
      "0 1 2 \n",
      "0 1 \n"
     ]
    }
   ],
   "source": [
    "# program\n",
    "o=5\n",
    "while o>=1:\n",
    "    i=0\n",
    "    while i<=o:\n",
    "        print(i,end=\" \")\n",
    "        i=i+1\n",
    "    print()\n",
    "    o=o-1\n",
    "        \n",
    "        \n",
    "        \n",
    "    "
   ]
  },
  {
   "cell_type": "code",
   "execution_count": 15,
   "id": "fe606625",
   "metadata": {},
   "outputs": [],
   "source": [
    "# f)\n",
    "# 1\n",
    "# 3 3 \n",
    "# 5 5 5 \n",
    "# 7 7 7 7 \n",
    "# 9 9 9 9 9\n"
   ]
  },
  {
   "cell_type": "code",
   "execution_count": 22,
   "id": "f99fd79f",
   "metadata": {},
   "outputs": [
    {
     "name": "stdout",
     "output_type": "stream",
     "text": [
      "1 \n",
      "3 3 \n",
      "5 5 5 \n",
      "7 7 7 7 \n",
      "9 9 9 9 9 \n"
     ]
    }
   ],
   "source": [
    "# program\n",
    "for o in range(0,5):\n",
    "    i=0\n",
    "    while i<=o:\n",
    "        print((2*o+1),end=\" \")\n",
    "        i=i+1\n",
    "    print()\n",
    "    o=o+1"
   ]
  },
  {
   "cell_type": "code",
   "execution_count": 1,
   "id": "3ea8ef0e",
   "metadata": {},
   "outputs": [],
   "source": [
    "# g)\n",
    "# 5 5 5 5 5 \n",
    "# 4 4 4 4 \n",
    "# 3 3 3 \n",
    "# 2 2 \n",
    "# 1\n"
   ]
  },
  {
   "cell_type": "code",
   "execution_count": 2,
   "id": "028bdf46",
   "metadata": {},
   "outputs": [
    {
     "name": "stdout",
     "output_type": "stream",
     "text": [
      "5 5 5 5 5 \n",
      "4 4 4 4 \n",
      "3 3 3 \n",
      "2 2 \n",
      "1 \n"
     ]
    }
   ],
   "source": [
    "# program\n",
    "for o in range(5,0,-1):\n",
    "    i=1\n",
    "    while i<=o :\n",
    "        print(o,end=\" \")\n",
    "        i=i+1\n",
    "    print()\n",
    "    "
   ]
  },
  {
   "cell_type": "code",
   "execution_count": 3,
   "id": "b8415ffe",
   "metadata": {},
   "outputs": [],
   "source": [
    "# h)\n",
    "# 1 \n",
    "# 2 1 \n",
    "# 3 2 1 \n",
    "# 4 3 2 1 \n",
    "# 5 4 3 2 1\n"
   ]
  },
  {
   "cell_type": "code",
   "execution_count": 4,
   "id": "6af1be05",
   "metadata": {},
   "outputs": [
    {
     "name": "stdout",
     "output_type": "stream",
     "text": [
      "1 \n",
      "2 1 \n",
      "3 2 1 \n",
      "4 3 2 1 \n",
      "5 4 3 2 1 \n"
     ]
    }
   ],
   "source": [
    "# program\n",
    "for o in range(2,7):\n",
    "    i=1\n",
    "    while i<o:\n",
    "        print(o-i,end=\" \")\n",
    "        i=i+1\n",
    "    print()\n",
    "    \n",
    "        "
   ]
  },
  {
   "cell_type": "code",
   "execution_count": 5,
   "id": "925d18b6",
   "metadata": {},
   "outputs": [],
   "source": [
    "# i)\n",
    "# 5 4 3 2 1 \n",
    "# 4 3 2 1 \n",
    "# 3 2 1 \n",
    "# 2 1 \n",
    "# 1\n"
   ]
  },
  {
   "cell_type": "code",
   "execution_count": 7,
   "id": "fdba4e48",
   "metadata": {},
   "outputs": [
    {
     "name": "stdout",
     "output_type": "stream",
     "text": [
      "5 4 3 2 1 \n",
      "4 3 2 1 \n",
      "3 2 1 \n",
      "2 1 \n",
      "1 \n"
     ]
    }
   ],
   "source": [
    "# program\n",
    "for o in range(6,1,-1):\n",
    "    i=1\n",
    "    while i<o:\n",
    "        print(o-i,end=\" \")\n",
    "        i=i+1\n",
    "    print()\n",
    "    \n"
   ]
  },
  {
   "cell_type": "code",
   "execution_count": 8,
   "id": "f8e6aad1",
   "metadata": {},
   "outputs": [],
   "source": [
    "# j)\n",
    "# 1\n",
    "# 3 2\n",
    "# 6 5 4\n",
    "# 10 9 8 7\n"
   ]
  },
  {
   "cell_type": "code",
   "execution_count": 7,
   "id": "b8d718d8",
   "metadata": {},
   "outputs": [
    {
     "name": "stdout",
     "output_type": "stream",
     "text": [
      "1 \n",
      "3 2 \n",
      "6 5 4 \n",
      "10 9 8 7 \n"
     ]
    }
   ],
   "source": [
    "# program\n",
    "x=1\n",
    "for o in range(2,6):\n",
    "    i=0\n",
    "    while i<(o-1): \n",
    "        print((x-i),end=\" \")\n",
    "        i=i+1\n",
    "    x=x+o\n",
    "    print()\n"
   ]
  },
  {
   "cell_type": "code",
   "execution_count": 8,
   "id": "a73138bb",
   "metadata": {},
   "outputs": [],
   "source": [
    "# k)\n",
    "#         1 \n",
    "#       1 2 \n",
    "#     1 2 3 \n",
    "#   1 2 3 4 \n",
    "# 1 2 3 4 5 \n"
   ]
  },
  {
   "cell_type": "code",
   "execution_count": 25,
   "id": "ec2ac494",
   "metadata": {},
   "outputs": [
    {
     "name": "stdout",
     "output_type": "stream",
     "text": [
      "        1 \n",
      "      1 2 \n",
      "    1 2 3 \n",
      "  1 2 3 4 \n",
      "1 2 3 4 5 \n"
     ]
    }
   ],
   "source": [
    "# program\n",
    "k=8\n",
    "for o in range(1,6):\n",
    "    i=1\n",
    "    print(\" \" * k,end=\"\")\n",
    "    while i<=o:\n",
    "        print(i,end=\" \")\n",
    "        i=i+1\n",
    "    k=k-2\n",
    "    print()\n",
    "    "
   ]
  },
  {
   "cell_type": "code",
   "execution_count": null,
   "id": "e0948335",
   "metadata": {},
   "outputs": [],
   "source": [
    "# l)\n",
    "#1 \n",
    "#1 1 \n",
    "#1 2 1 \n",
    "#1 3 3 1 \n",
    "#1 4 6 4 1 \n",
    "#1 5 10 10 5 1 \n",
    "#1 6 15 20 15 6 1\n"
   ]
  },
  {
   "cell_type": "code",
   "execution_count": 3,
   "id": "03fea0e1",
   "metadata": {},
   "outputs": [
    {
     "name": "stdout",
     "output_type": "stream",
     "text": [
      "1 \n",
      "1 1 \n",
      "1 2 1 \n",
      "1 3 3 1 \n",
      "1 4 6 4 1 \n",
      "1 5 10 10 5 1 \n",
      "1 6 15 20 15 6 1 \n"
     ]
    }
   ],
   "source": [
    "# program\n",
    "def fact(n):\n",
    "    if n==0:\n",
    "        return 1\n",
    "    else:\n",
    "        res =1\n",
    "        for j in range(1,n+1):\n",
    "            res = res * j\n",
    "            j=j+1\n",
    "        return res\n",
    "    \n",
    "def c(a,b):\n",
    "    return fact(a)//(fact(a-b) * fact(b))\n",
    "\n",
    "for o in range(7):\n",
    "    i=0\n",
    "    while i<=o:\n",
    "        print(c(o,i),end=\" \")\n",
    "        i=i+1\n",
    "    print()\n",
    "    \n",
    "      \n",
    "\n",
    "    \n"
   ]
  },
  {
   "cell_type": "code",
   "execution_count": 23,
   "id": "8afe65e0",
   "metadata": {},
   "outputs": [],
   "source": [
    "# m)\n",
    "# 1 2 3 4 5 \n",
    "# 2 2 3 4 5 \n",
    "# 3 3 3 4 5 \n",
    "# 4 4 4 4 5 \n",
    "# 5 5 5 5 5\n"
   ]
  },
  {
   "cell_type": "code",
   "execution_count": 26,
   "id": "15284782",
   "metadata": {},
   "outputs": [
    {
     "name": "stdout",
     "output_type": "stream",
     "text": [
      "1 2 3 4 5 \n",
      "2 2 3 4 5 \n",
      "3 3 3 4 5 \n",
      "4 4 4 4 5 \n",
      "5 5 5 5 5 \n"
     ]
    }
   ],
   "source": [
    "# program\n",
    "for o in range(1,6):\n",
    "    i=1\n",
    "    while i<=5:\n",
    "        if o>=i:\n",
    "            print(o,end=\" \")\n",
    "        else :\n",
    "            print(i,end=\" \")\n",
    "        i=i+1\n",
    "    print()"
   ]
  },
  {
   "cell_type": "code",
   "execution_count": 26,
   "id": "068610b9",
   "metadata": {},
   "outputs": [],
   "source": [
    "# n)\n",
    "#1  \n",
    "#2  4  \n",
    "#3  6  9  \n",
    "#4  8  12  16  \n",
    "#5  10  15  20  25  \n",
    "#6  12  18  24  30  36  \n",
    "#7  14  21  28  35  42  49  \n",
    "#8  16  24  32  40  48  56  64\n"
   ]
  },
  {
   "cell_type": "code",
   "execution_count": 27,
   "id": "2c3a7454",
   "metadata": {},
   "outputs": [
    {
     "name": "stdout",
     "output_type": "stream",
     "text": [
      "1 \n",
      "2 4 \n",
      "3 6 9 \n",
      "4 8 12 16 \n",
      "5 10 15 20 25 \n",
      "6 12 18 24 30 36 \n",
      "7 14 21 28 35 42 49 \n",
      "8 16 24 32 40 48 56 64 \n"
     ]
    }
   ],
   "source": [
    "# program\n",
    "for o in range(1,9):\n",
    "    i=1\n",
    "    while i<=o:\n",
    "        print((o*i),end=\" \")\n",
    "        i=i+1\n",
    "    print()"
   ]
  },
  {
   "cell_type": "code",
   "execution_count": 28,
   "id": "4f155127",
   "metadata": {},
   "outputs": [],
   "source": [
    "# o)\n",
    "#* \n",
    "#* * \n",
    "#* * * \n",
    "#* * * * \n",
    "#* * * * * \n"
   ]
  },
  {
   "cell_type": "code",
   "execution_count": 29,
   "id": "83228a85",
   "metadata": {},
   "outputs": [
    {
     "name": "stdout",
     "output_type": "stream",
     "text": [
      "* \n",
      "* * \n",
      "* * * \n",
      "* * * * \n",
      "* * * * * \n"
     ]
    }
   ],
   "source": [
    "# program\n",
    "for o in range(1,6):\n",
    "    i=1\n",
    "    while i<=o:\n",
    "        print(\"*\",end=\" \")\n",
    "        i=i+1\n",
    "    print()"
   ]
  },
  {
   "cell_type": "code",
   "execution_count": 30,
   "id": "f1413fe0",
   "metadata": {},
   "outputs": [],
   "source": [
    "# p)\n",
    "#         * \n",
    "#       * * \n",
    "#     * * * \n",
    "#   * * * * \n",
    "# * * * * * \n"
   ]
  },
  {
   "cell_type": "code",
   "execution_count": 31,
   "id": "291db2d8",
   "metadata": {},
   "outputs": [
    {
     "name": "stdout",
     "output_type": "stream",
     "text": [
      "        * \n",
      "      * * \n",
      "    * * * \n",
      "  * * * * \n",
      "* * * * * \n"
     ]
    }
   ],
   "source": [
    "# program\n",
    "k=8\n",
    "for o in range(1,6):\n",
    "    i=1\n",
    "    print(\" \" * k,end=\"\")\n",
    "    while i<=o:\n",
    "        print(\"*\",end=\" \")\n",
    "        i=i+1\n",
    "    k=k-2\n",
    "    print()\n"
   ]
  },
  {
   "cell_type": "code",
   "execution_count": 32,
   "id": "02641d3b",
   "metadata": {},
   "outputs": [],
   "source": [
    "# q)\n",
    "#* * * * *  \n",
    "#* * * *  \n",
    "#* * *  \n",
    "#* *  \n",
    "#*\n"
   ]
  },
  {
   "cell_type": "code",
   "execution_count": 33,
   "id": "d9ac9fe5",
   "metadata": {},
   "outputs": [
    {
     "name": "stdout",
     "output_type": "stream",
     "text": [
      "* * * * * \n",
      "* * * * \n",
      "* * * \n",
      "* * \n",
      "* \n"
     ]
    }
   ],
   "source": [
    "# program\n",
    "for o in range(1,6):\n",
    "    i=5\n",
    "    while i>=o:\n",
    "        print(\"*\",end=\" \")\n",
    "        i=i-1\n",
    "    print()"
   ]
  },
  {
   "cell_type": "code",
   "execution_count": 40,
   "id": "31ae316f",
   "metadata": {},
   "outputs": [],
   "source": [
    "# r)\n",
    "#       * * * * * * \n",
    "#        * * * * * \n",
    "#         * * * * \n",
    "#          * * * \n",
    "#           * * \n",
    "#            * \n"
   ]
  },
  {
   "cell_type": "code",
   "execution_count": 41,
   "id": "0d4fb0f3",
   "metadata": {},
   "outputs": [
    {
     "name": "stdout",
     "output_type": "stream",
     "text": [
      "* * * * * * \n",
      " * * * * * \n",
      "  * * * * \n",
      "   * * * \n",
      "    * * \n",
      "     * \n"
     ]
    }
   ],
   "source": [
    "# program\n",
    "k=0\n",
    "for o in range(1,7):\n",
    "    i=6\n",
    "    print(\" \" * k,end=\"\")\n",
    "    while i>=o:\n",
    "        print(\"*\",end=\" \")\n",
    "        i=i-1\n",
    "    k=k+1\n",
    "    print()\n"
   ]
  },
  {
   "cell_type": "code",
   "execution_count": 34,
   "id": "1fc38382",
   "metadata": {},
   "outputs": [],
   "source": [
    "# s)\n",
    "#*****\n",
    "# ****\n",
    "#  ***\n",
    "#   **\n",
    "#    *\n"
   ]
  },
  {
   "cell_type": "code",
   "execution_count": 35,
   "id": "4f402b1b",
   "metadata": {},
   "outputs": [
    {
     "name": "stdout",
     "output_type": "stream",
     "text": [
      "*****\n",
      " ****\n",
      "  ***\n",
      "   **\n",
      "    *\n"
     ]
    }
   ],
   "source": [
    "k=0\n",
    "for o in range(1,6):\n",
    "    i=5\n",
    "    print(\" \" * k,end=\"\")\n",
    "    while i>=o:\n",
    "        print(\"*\",end=\"\")\n",
    "        i=i-1\n",
    "    k=k+1\n",
    "    print()"
   ]
  },
  {
   "cell_type": "code",
   "execution_count": 36,
   "id": "957e1cc2",
   "metadata": {},
   "outputs": [],
   "source": [
    "# t)\n",
    "#           *   \n",
    "#          *  *   \n",
    "#         *  *  *   \n",
    "#        *  *  *  *   \n",
    "#       *  *  *  *  *   \n",
    "#      *  *  *  *  *  *   \n",
    "#     *  *  *  *  *  *  *  \n"
   ]
  },
  {
   "cell_type": "code",
   "execution_count": 39,
   "id": "18774e38",
   "metadata": {},
   "outputs": [
    {
     "name": "stdout",
     "output_type": "stream",
     "text": [
      "       * \n",
      "      * * \n",
      "     * * * \n",
      "    * * * * \n",
      "   * * * * * \n",
      "  * * * * * * \n",
      " * * * * * * * \n"
     ]
    }
   ],
   "source": [
    "# program\n",
    "k=7\n",
    "for o in range(1,8):\n",
    "    i=1\n",
    "    print(\" \" * k,end=\"\")\n",
    "    while i<=o:\n",
    "        print(\"*\",end=\" \")\n",
    "        i=i+1\n",
    "    k=k-1\n",
    "    print()"
   ]
  },
  {
   "cell_type": "code",
   "execution_count": 42,
   "id": "6c7a112b",
   "metadata": {},
   "outputs": [
    {
     "name": "stdout",
     "output_type": "stream",
     "text": [
      "* \n",
      "* * \n",
      "* * * \n",
      "* * * * \n",
      "* * * * * \n",
      "* * * * * * \n",
      "\n",
      "\n",
      "* * * * * * \n",
      "* * * * * \n",
      "* * * * \n",
      "* * * \n",
      "* * \n",
      "* \n"
     ]
    }
   ],
   "source": [
    "# q)\n",
    "# program\n",
    "\n",
    "for o in range(1,7):\n",
    "    i=1\n",
    "    while i<=o:\n",
    "        print(\"*\",end=\" \")\n",
    "        i=i+1\n",
    "    print()\n",
    "print()\n",
    "print()\n",
    "\n",
    "for o in range(1,7):\n",
    "    i=6\n",
    "    while i>=o:\n",
    "        print(\"*\",end=\" \")\n",
    "        i=i-1\n",
    "    print()\n",
    "\n"
   ]
  },
  {
   "cell_type": "code",
   "execution_count": 43,
   "id": "426f572a",
   "metadata": {},
   "outputs": [
    {
     "name": "stdout",
     "output_type": "stream",
     "text": [
      "* \n",
      "* * \n",
      "* * * \n",
      "* * * * \n",
      "* * * * * \n",
      "* * * * \n",
      "* * * \n",
      "* * \n",
      "* \n"
     ]
    }
   ],
   "source": [
    "# r)\n",
    "# program\n",
    "\n",
    "for o in range(1,6):\n",
    "    i=1\n",
    "    while i<=o:\n",
    "        print(\"*\",end=\" \")\n",
    "        i=i+1\n",
    "    print()\n",
    "    \n",
    "for o in range(1,5):\n",
    "    i=4\n",
    "    while i>=o:\n",
    "        print(\"*\",end=\" \")\n",
    "        i=i-1\n",
    "    print()\n",
    "\n"
   ]
  },
  {
   "cell_type": "code",
   "execution_count": 45,
   "id": "9df11d59",
   "metadata": {},
   "outputs": [
    {
     "name": "stdout",
     "output_type": "stream",
     "text": [
      "        * \n",
      "      * * \n",
      "    * * * \n",
      "  * * * * \n",
      "* * * * * \n",
      "  * * * * \n",
      "    * * * \n",
      "      * * \n",
      "        * \n"
     ]
    }
   ],
   "source": [
    "# s)\n",
    "# program\n",
    "\n",
    "k=8\n",
    "for o in range(1,6):\n",
    "    i=1\n",
    "    print(\" \" * k,end=\"\")\n",
    "    while i<=o:\n",
    "        print(\"*\",end=\" \")\n",
    "        i=i+1\n",
    "    k=k-2\n",
    "    print()\n",
    "    \n",
    "k=2\n",
    "for o in range(1,5):\n",
    "    i=4\n",
    "    print(\" \" * k,end=\"\")\n",
    "    while i>=o:\n",
    "        print(\"*\",end=\" \")\n",
    "        i=i-1\n",
    "    k=k+2\n",
    "    print()\n",
    "\n"
   ]
  },
  {
   "cell_type": "code",
   "execution_count": 58,
   "id": "68c6f9a5",
   "metadata": {},
   "outputs": [
    {
     "name": "stdout",
     "output_type": "stream",
     "text": [
      "* * * * * \n",
      " * * * * \n",
      "  * * * \n",
      "   * * \n",
      "    * \n",
      "    * \n",
      "   * * \n",
      "  * * * \n",
      " * * * * \n",
      "* * * * * \n"
     ]
    }
   ],
   "source": [
    "# t)\n",
    "# program\n",
    "\n",
    "k=0\n",
    "for o in range(1,6):\n",
    "    i=5\n",
    "    print(\" \" * k,end=\"\")\n",
    "    while i>=o:\n",
    "        print(\"*\",end=\" \")\n",
    "        i=i-1\n",
    "    k=k+1\n",
    "    print()\n",
    "    \n",
    "k=4\n",
    "for o in range(1,6):\n",
    "    i=1\n",
    "    print(\" \" * k,end=\"\")\n",
    "    while i<=o:\n",
    "        print(\"*\",end=\" \")\n",
    "        i=i+1\n",
    "    k=k-1\n",
    "    print()\n",
    "\n",
    "\n",
    "\n"
   ]
  },
  {
   "cell_type": "code",
   "execution_count": 3,
   "id": "e6ce5299",
   "metadata": {},
   "outputs": [
    {
     "name": "stdout",
     "output_type": "stream",
     "text": [
      "    * \n",
      "   * * \n",
      "  * * * \n",
      " * * * * \n",
      "* * * * * \n",
      " * * * * \n",
      "  * * * \n",
      "   * * \n",
      "    * \n"
     ]
    }
   ],
   "source": [
    "# u)\n",
    "# program\n",
    "\n",
    "k=4\n",
    "for o in range(1,6):\n",
    "    i=1\n",
    "    print(\" \" * k,end=\"\")\n",
    "    while i<=o:\n",
    "        print(\"*\",end=\" \")\n",
    "        i=i+1\n",
    "    k=k-1\n",
    "    print()\n",
    "\n",
    "k=1\n",
    "for o in range(1,5):\n",
    "    i=4\n",
    "    print(\" \" * k,end=\"\")\n",
    "    while i>=o:\n",
    "        print(\"*\",end=\" \")\n",
    "        i=i-1\n",
    "    k=k+1\n",
    "    print()\n",
    "\n",
    "\n",
    "\n",
    "\n"
   ]
  },
  {
   "cell_type": "code",
   "execution_count": 22,
   "id": "8783da99",
   "metadata": {},
   "outputs": [
    {
     "name": "stdout",
     "output_type": "stream",
     "text": [
      "    *\n",
      "   * *\n",
      "  *   *\n",
      " *     *\n",
      "*       *\n",
      " *     *\n",
      "  *   *\n",
      "   * *\n",
      "    *\n"
     ]
    }
   ],
   "source": [
    "# v)\n",
    "# program\n",
    "\n",
    "k=4\n",
    "for o in range(1,6):\n",
    "    i=1\n",
    "    print(\" \" * k,end=\"\")\n",
    "    while i<=o:\n",
    "        if i==o:\n",
    "            print(\"*\",end=\"\\n\")\n",
    "        elif i==1:\n",
    "            print(\"*\",end=\" \")\n",
    "        else:\n",
    "            print(\" \",end=\" \")\n",
    "        i=i+1\n",
    "    k=k-1\n",
    "    \n",
    "\n",
    "k=1\n",
    "for o in range(1,5):\n",
    "    i=4\n",
    "    print(\" \" * k,end=\"\")\n",
    "    while i>=o:\n",
    "        if i==o:\n",
    "            print(\"*\",end=\"\\n\")\n",
    "        elif i==4:\n",
    "            print(\"*\",end=\" \")\n",
    "        else:\n",
    "            print(\" \",end=\" \")\n",
    "        i=i-1\n",
    "    k=k+1\n",
    "    \n",
    "\n",
    "\n"
   ]
  }
 ],
 "metadata": {
  "kernelspec": {
   "display_name": "Python 3 (ipykernel)",
   "language": "python",
   "name": "python3"
  },
  "language_info": {
   "codemirror_mode": {
    "name": "ipython",
    "version": 3
   },
   "file_extension": ".py",
   "mimetype": "text/x-python",
   "name": "python",
   "nbconvert_exporter": "python",
   "pygments_lexer": "ipython3",
   "version": "3.11.3"
  }
 },
 "nbformat": 4,
 "nbformat_minor": 5
}
